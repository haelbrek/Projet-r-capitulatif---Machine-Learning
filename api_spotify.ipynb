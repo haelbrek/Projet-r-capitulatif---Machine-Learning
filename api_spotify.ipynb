{
 "cells": [
  {
   "cell_type": "code",
   "execution_count": 38,
   "metadata": {},
   "outputs": [
    {
     "name": "stdout",
     "output_type": "stream",
     "text": [
      "Shape of You\n",
      "Shape of You\n",
      "Shape of You - Acoustic\n",
      "Shape of You (feat. Zion & Lennox) - Latin Remix\n",
      "Shape of You (feat. Nyla & Kranium) - Major Lazer Remix\n",
      "Shape of You - Galantis Remix\n",
      "Shape of You - Stormzy Remix\n",
      "Shape of You - NOTD Remix\n",
      "Shape of You - Yxng Bane Remix\n",
      "Shape of You\n"
     ]
    }
   ],
   "source": [
    "import spotipy\n",
    "from spotipy.oauth2 import SpotifyClientCredentials\n",
    "\n",
    "# Remplacez \"CLIENT_ID\" et \"CLIENT_SECRET\" par vos propres identifiants de l'application Spotify\n",
    "client_id = \"0aa04daff5e64a329994247191f4634c\"\n",
    "client_secret = \"1b5fa37daf72468e8c657afb010e613e\"\n",
    "\n",
    "# Créez une instance de l'authentification client-credentials pour utiliser l'API Spotify\n",
    "auth_manager = SpotifyClientCredentials(client_id=client_id, client_secret=client_secret)\n",
    "sp = spotipy.Spotify(auth_manager=auth_manager)\n",
    "\n",
    "# Recherchez des morceaux correspondant à une requête spécifique\n",
    "results = sp.search(q='artist:Ed Sheeran track:Shape of You', type='track')\n",
    "\n",
    "# Affichez le nom de chaque morceau correspondant à la requête\n",
    "for track in results['tracks']['items']:\n",
    "    print(track['name'])"
   ]
  },
  {
   "cell_type": "code",
   "execution_count": 39,
   "metadata": {},
   "outputs": [
    {
     "name": "stdout",
     "output_type": "stream",
     "text": [
      "[{'danceability': 0.592, 'energy': 0.0196, 'key': 1, 'loudness': -33.35, 'mode': 1, 'speechiness': 0.0358, 'acousticness': 0.362, 'instrumentalness': 0.854, 'liveness': 0.108, 'valence': 0.0312, 'tempo': 119.504, 'type': 'audio_features', 'id': '6rqhFgbbKwnb9MLmUQDhG6', 'uri': 'spotify:track:6rqhFgbbKwnb9MLmUQDhG6', 'track_href': 'https://api.spotify.com/v1/tracks/6rqhFgbbKwnb9MLmUQDhG6', 'analysis_url': 'https://api.spotify.com/v1/audio-analysis/6rqhFgbbKwnb9MLmUQDhG6', 'duration_ms': 65314, 'time_signature': 4}]\n"
     ]
    }
   ],
   "source": [
    "\n",
    "client_credentials_manager = SpotifyClientCredentials(client_id, client_secret)\n",
    "sp = spotipy.Spotify(client_credentials_manager=client_credentials_manager)\n",
    "\n",
    "track_id = 'spotify:track:6rqhFgbbKwnb9MLmUQDhG6' # Example track ID\n",
    "track_features = sp.audio_features(track_id)\n",
    "print(track_features)"
   ]
  },
  {
   "cell_type": "code",
   "execution_count": 40,
   "metadata": {},
   "outputs": [
    {
     "name": "stdout",
     "output_type": "stream",
     "text": [
      "Access Token: BQAk0qQ_8zgbPN3GkO0K0V7SNwudm_IcXrKpSPapI8WtlKq6LdsxMgZ_Rq27OmdyEYk-RIwIYdT4BWa56ikNi3QpzIQ8brRZJP8sQ8UzSZqic3Khxbf9\n"
     ]
    }
   ],
   "source": [
    "import base64\n",
    "import requests\n",
    "\n",
    "\n",
    "client_ID = \"0aa04daff5e64a329994247191f4634c\"\n",
    "client_secret = \"1b5fa37daf72468e8c657afb010e613e\"\n",
    "\n",
    "# encode client_id and client_secret in base64\n",
    "client_credentials = f\"{client_id}:{client_secret}\".encode(\"ascii\")\n",
    "base64_credentials = base64.b64encode(client_credentials).decode(\"ascii\")\n",
    "\n",
    "# make request for access token\n",
    "url = \"https://accounts.spotify.com/api/token\"\n",
    "response = requests.post(\n",
    "    url,\n",
    "    headers={\n",
    "        \"Authorization\": f\"Basic {base64_credentials}\",\n",
    "        \"Content-Type\": \"application/x-www-form-urlencoded\"\n",
    "    },\n",
    "    data={\"grant_type\": \"client_credentials\"}\n",
    ")\n",
    "\n",
    "if response.status_code == 200:\n",
    "    access_token = response.json()[\"access_token\"]\n",
    "    print(f\"Access Token: {access_token}\")\n",
    "else:\n",
    "    print(f\"Error: {response.text}\")"
   ]
  },
  {
   "cell_type": "code",
   "execution_count": 45,
   "metadata": {},
   "outputs": [
    {
     "name": "stderr",
     "output_type": "stream",
     "text": [
      "100%|██████████| 1000/1000 [01:07<00:00, 14.80it/s]"
     ]
    },
    {
     "name": "stdout",
     "output_type": "stream",
     "text": [
      "                       id                                    name  \\\n",
      "0  3OHfY25tqY28d16oZczHc8                               Kill Bill   \n",
      "1  2dHHgzDwk4BJdRwy9uXhTO  Creepin' (with The Weeknd & 21 Savage)   \n",
      "2  1Qrg8KqiBpW07V7PNxwwwL                               Kill Bill   \n",
      "3  1bDbXMyjaUIooNwFE9wn0N                               Rich Flex   \n",
      "4  4FyesJzVpA39hbYvcseO2d                         Just Wanna Rock   \n",
      "\n",
      "               album                                artists  popularity  \\\n",
      "0                SOS                                  [SZA]          92   \n",
      "1  HEROES & VILLAINS  [Metro Boomin, The Weeknd, 21 Savage]          93   \n",
      "2                SOS                                  [SZA]          92   \n",
      "3           Her Loss                     [Drake, 21 Savage]          89   \n",
      "4    Just Wanna Rock                         [Lil Uzi Vert]          88   \n",
      "\n",
      "   explicit release_date  duration_ms  acousticness  danceability  energy  \\\n",
      "0     False   2022-12-09       153946        0.0543         0.644   0.728   \n",
      "1      True   2022-12-02       221520        0.4170         0.715   0.620   \n",
      "2     False   2022-12-08       153946        0.0521         0.644   0.735   \n",
      "3      True   2022-11-04       239359        0.0503         0.561   0.520   \n",
      "4      True   2022-10-17       123890        0.0652         0.486   0.545   \n",
      "\n",
      "   instrumentalness  key  liveness  loudness  mode  speechiness    tempo  \\\n",
      "0          0.169000    8    0.1610    -5.750     1       0.0351   88.993   \n",
      "1          0.000000    1    0.0822    -6.005     0       0.0484   97.950   \n",
      "2          0.144000    8    0.1610    -5.747     1       0.0391   88.980   \n",
      "3          0.000002   11    0.3550    -9.342     0       0.2440  153.150   \n",
      "4          0.004740   11    0.0642    -7.924     1       0.0336  150.187   \n",
      "\n",
      "   valence  \n",
      "0   0.4300  \n",
      "1   0.1720  \n",
      "2   0.4180  \n",
      "3   0.4240  \n",
      "4   0.0385  \n"
     ]
    },
    {
     "name": "stderr",
     "output_type": "stream",
     "text": [
      "\n"
     ]
    }
   ],
   "source": [
    "import pandas as pd\n",
    "import requests\n",
    "from tqdm import tqdm\n",
    "\n",
    "client_id = \"0aa04daff5e64a329994247191f4634c\"\n",
    "client_secret = \"1b5fa37daf72468e8c657afb010e613e\"\n",
    "\n",
    "\n",
    "# Obtenez les caractéristiques musicales et la popularité de chaque piste\n",
    "def get_audio_features(track_id):\n",
    "    global access_token\n",
    "    url = f\"https://api.spotify.com/v1/audio-features/{track_id}\"\n",
    "    response = requests.get(\n",
    "        url,\n",
    "        headers={\n",
    "            \"Content-Type\": \"application/json\",\n",
    "            \"Authorization\": f\"Bearer {access_token}\"\n",
    "        }\n",
    "    )\n",
    "    if response.status_code == 200:\n",
    "        data = response.json()\n",
    "        return [\n",
    "            data[\"danceability\"],\n",
    "            data[\"energy\"],\n",
    "            data[\"key\"],\n",
    "            data[\"loudness\"],\n",
    "            data[\"mode\"],\n",
    "            data[\"speechiness\"],\n",
    "            data[\"acousticness\"],\n",
    "            data[\"instrumentalness\"],\n",
    "            data[\"liveness\"],\n",
    "            data[\"valence\"],\n",
    "            data[\"tempo\"],\n",
    "            data[\"duration_ms\"]\n",
    "        ]\n",
    "    else:\n",
    "        return None\n",
    "\n",
    "# Requêtez l'API Spotify pour obtenir les pistes sorties en 2022\n",
    "def get_new_tracks():\n",
    "    global access_token\n",
    "    tracks = []\n",
    "    url = \"https://api.spotify.com/v1/search\"\n",
    "    params = {\n",
    "        \"q\": \"year:2022\",\n",
    "        \"type\": \"track\",\n",
    "        \"market\": \"US\",\n",
    "        \"limit\": 50,\n",
    "        \"offset\": 0\n",
    "    }\n",
    "    while True:\n",
    "        response = requests.get(\n",
    "            url,\n",
    "            headers={\n",
    "                \"Content-Type\": \"application/json\",\n",
    "                \"Authorization\": f\"Bearer {access_token}\"\n",
    "            },\n",
    "            params=params\n",
    "        )\n",
    "        if response.status_code == 200:\n",
    "            data = response.json()\n",
    "            tracks += data[\"tracks\"][\"items\"]\n",
    "            if data[\"tracks\"][\"next\"] is None:\n",
    "                break\n",
    "            params[\"offset\"] += 50\n",
    "        else:\n",
    "            print(\"Erreur lors de la récupération des pistes : \", response.text)\n",
    "            break\n",
    "    return tracks\n",
    "\n",
    "# Récupérez les pistes et leurs caractéristiques musicales\n",
    "def get_tracks_audio_features():\n",
    "    global access_token\n",
    "    tracks = get_new_tracks()\n",
    "    audio_features = []\n",
    "    for track in tqdm(tracks):\n",
    "        track_info = {\n",
    "            \"id\": track[\"id\"],\n",
    "            \"name\": track[\"name\"],\n",
    "            \"album\": track[\"album\"][\"name\"],\n",
    "            \"artists\": [artist[\"name\"] for artist in track[\"artists\"]],\n",
    "            \"popularity\": track[\"popularity\"],\n",
    "            \"explicit\": track[\"explicit\"],\n",
    "            \"release_date\": track[\"album\"][\"release_date\"],\n",
    "            \"duration_ms\": track[\"duration_ms\"]\n",
    "        }\n",
    "        features = get_audio_features(track[\"id\"])\n",
    "        if features is not None:\n",
    "            track_info.update({\n",
    "                \"acousticness\": features[6],\n",
    "                \"danceability\": features[0],\n",
    "                \"energy\": features[1],\n",
    "                \"instrumentalness\": features[7],\n",
    "                \"key\": features[2],\n",
    "                \"liveness\": features[8],\n",
    "                \"loudness\": features[3],\n",
    "                \"mode\": features[4],\n",
    "                \"speechiness\": features[5],\n",
    "                \"tempo\": features[10],\n",
    "                \"valence\": features[9]\n",
    "            })\n",
    "            audio_features.append(track_info)\n",
    "    return pd.DataFrame(audio_features)\n",
    "\n",
    "df = get_tracks_audio_features()\n",
    "print(df.head())"
   ]
  },
  {
   "cell_type": "markdown",
   "metadata": {},
   "source": []
  },
  {
   "cell_type": "code",
   "execution_count": 43,
   "metadata": {},
   "outputs": [
    {
     "ename": "KeyError",
     "evalue": "'liveness'",
     "output_type": "error",
     "traceback": [
      "\u001b[0;31m---------------------------------------------------------------------------\u001b[0m",
      "\u001b[0;31mKeyError\u001b[0m                                  Traceback (most recent call last)",
      "File \u001b[0;32m~/.local/lib/python3.10/site-packages/pandas/core/indexes/base.py:3803\u001b[0m, in \u001b[0;36mIndex.get_loc\u001b[0;34m(self, key, method, tolerance)\u001b[0m\n\u001b[1;32m   3802\u001b[0m \u001b[39mtry\u001b[39;00m:\n\u001b[0;32m-> 3803\u001b[0m     \u001b[39mreturn\u001b[39;00m \u001b[39mself\u001b[39;49m\u001b[39m.\u001b[39;49m_engine\u001b[39m.\u001b[39;49mget_loc(casted_key)\n\u001b[1;32m   3804\u001b[0m \u001b[39mexcept\u001b[39;00m \u001b[39mKeyError\u001b[39;00m \u001b[39mas\u001b[39;00m err:\n",
      "File \u001b[0;32m~/.local/lib/python3.10/site-packages/pandas/_libs/index.pyx:138\u001b[0m, in \u001b[0;36mpandas._libs.index.IndexEngine.get_loc\u001b[0;34m()\u001b[0m\n",
      "File \u001b[0;32m~/.local/lib/python3.10/site-packages/pandas/_libs/index.pyx:165\u001b[0m, in \u001b[0;36mpandas._libs.index.IndexEngine.get_loc\u001b[0;34m()\u001b[0m\n",
      "File \u001b[0;32mpandas/_libs/hashtable_class_helper.pxi:5745\u001b[0m, in \u001b[0;36mpandas._libs.hashtable.PyObjectHashTable.get_item\u001b[0;34m()\u001b[0m\n",
      "File \u001b[0;32mpandas/_libs/hashtable_class_helper.pxi:5753\u001b[0m, in \u001b[0;36mpandas._libs.hashtable.PyObjectHashTable.get_item\u001b[0;34m()\u001b[0m\n",
      "\u001b[0;31mKeyError\u001b[0m: 'liveness'",
      "\nThe above exception was the direct cause of the following exception:\n",
      "\u001b[0;31mKeyError\u001b[0m                                  Traceback (most recent call last)",
      "Cell \u001b[0;32mIn [43], line 6\u001b[0m\n\u001b[1;32m      2\u001b[0m \u001b[39mimport\u001b[39;00m \u001b[39mnumpy\u001b[39;00m \u001b[39mas\u001b[39;00m \u001b[39mnp\u001b[39;00m\n\u001b[1;32m      5\u001b[0m \u001b[39m# Calculate some statistics on the data\u001b[39;00m\n\u001b[0;32m----> 6\u001b[0m mean_liveness \u001b[39m=\u001b[39m np\u001b[39m.\u001b[39mmean(df[\u001b[39m'\u001b[39;49m\u001b[39mliveness\u001b[39;49m\u001b[39m'\u001b[39;49m])\n\u001b[1;32m      7\u001b[0m max_duration \u001b[39m=\u001b[39m np\u001b[39m.\u001b[39mmax(df[\u001b[39m'\u001b[39m\u001b[39mduration_ms\u001b[39m\u001b[39m'\u001b[39m])\n\u001b[1;32m      9\u001b[0m \u001b[39mprint\u001b[39m(\u001b[39m'\u001b[39m\u001b[39mMean liveness: \u001b[39m\u001b[39m'\u001b[39m, mean_liveness)\n",
      "File \u001b[0;32m~/.local/lib/python3.10/site-packages/pandas/core/frame.py:3804\u001b[0m, in \u001b[0;36mDataFrame.__getitem__\u001b[0;34m(self, key)\u001b[0m\n\u001b[1;32m   3802\u001b[0m \u001b[39mif\u001b[39;00m \u001b[39mself\u001b[39m\u001b[39m.\u001b[39mcolumns\u001b[39m.\u001b[39mnlevels \u001b[39m>\u001b[39m \u001b[39m1\u001b[39m:\n\u001b[1;32m   3803\u001b[0m     \u001b[39mreturn\u001b[39;00m \u001b[39mself\u001b[39m\u001b[39m.\u001b[39m_getitem_multilevel(key)\n\u001b[0;32m-> 3804\u001b[0m indexer \u001b[39m=\u001b[39m \u001b[39mself\u001b[39;49m\u001b[39m.\u001b[39;49mcolumns\u001b[39m.\u001b[39;49mget_loc(key)\n\u001b[1;32m   3805\u001b[0m \u001b[39mif\u001b[39;00m is_integer(indexer):\n\u001b[1;32m   3806\u001b[0m     indexer \u001b[39m=\u001b[39m [indexer]\n",
      "File \u001b[0;32m~/.local/lib/python3.10/site-packages/pandas/core/indexes/base.py:3805\u001b[0m, in \u001b[0;36mIndex.get_loc\u001b[0;34m(self, key, method, tolerance)\u001b[0m\n\u001b[1;32m   3803\u001b[0m     \u001b[39mreturn\u001b[39;00m \u001b[39mself\u001b[39m\u001b[39m.\u001b[39m_engine\u001b[39m.\u001b[39mget_loc(casted_key)\n\u001b[1;32m   3804\u001b[0m \u001b[39mexcept\u001b[39;00m \u001b[39mKeyError\u001b[39;00m \u001b[39mas\u001b[39;00m err:\n\u001b[0;32m-> 3805\u001b[0m     \u001b[39mraise\u001b[39;00m \u001b[39mKeyError\u001b[39;00m(key) \u001b[39mfrom\u001b[39;00m \u001b[39merr\u001b[39;00m\n\u001b[1;32m   3806\u001b[0m \u001b[39mexcept\u001b[39;00m \u001b[39mTypeError\u001b[39;00m:\n\u001b[1;32m   3807\u001b[0m     \u001b[39m# If we have a listlike key, _check_indexing_error will raise\u001b[39;00m\n\u001b[1;32m   3808\u001b[0m     \u001b[39m#  InvalidIndexError. Otherwise we fall through and re-raise\u001b[39;00m\n\u001b[1;32m   3809\u001b[0m     \u001b[39m#  the TypeError.\u001b[39;00m\n\u001b[1;32m   3810\u001b[0m     \u001b[39mself\u001b[39m\u001b[39m.\u001b[39m_check_indexing_error(key)\n",
      "\u001b[0;31mKeyError\u001b[0m: 'liveness'"
     ]
    }
   ],
   "source": [
    "import pandas as pd\n",
    "import numpy as np\n",
    "\n",
    "\n",
    "# Calculate some statistics on the data\n",
    "mean_liveness = np.mean(df['liveness'])\n",
    "max_duration = np.max(df['duration_ms'])\n",
    "\n",
    "print('Mean liveness: ', mean_liveness)\n",
    "print('Max duration: ', max_duration)"
   ]
  },
  {
   "cell_type": "code",
   "execution_count": 1,
   "metadata": {},
   "outputs": [
    {
     "ename": "NameError",
     "evalue": "name 'df' is not defined",
     "output_type": "error",
     "traceback": [
      "\u001b[0;31m---------------------------------------------------------------------------\u001b[0m",
      "\u001b[0;31mNameError\u001b[0m                                 Traceback (most recent call last)",
      "Cell \u001b[0;32mIn [1], line 1\u001b[0m\n\u001b[0;32m----> 1\u001b[0m df\u001b[39m.\u001b[39mcolumns\n",
      "\u001b[0;31mNameError\u001b[0m: name 'df' is not defined"
     ]
    }
   ],
   "source": [
    "df.columns"
   ]
  },
  {
   "cell_type": "code",
   "execution_count": null,
   "metadata": {},
   "outputs": [
    {
     "name": "stdout",
     "output_type": "stream",
     "text": [
      "MAE: 4.578561680055512\n"
     ]
    }
   ],
   "source": [
    "from sklearn.preprocessing import StandardScaler, OneHotEncoder\n",
    "from sklearn.impute import SimpleImputer\n",
    "from sklearn.model_selection import train_test_split\n",
    "from sklearn.compose import ColumnTransformer\n",
    "from sklearn.linear_model import LinearRegression\n",
    "from sklearn.metrics import mean_absolute_error\n",
    "\n",
    "# Define X and y\n",
    "X = df.drop(['popularity'], axis=1)\n",
    "y = df['popularity']\n",
    "\n",
    "# Convert the list column to string column\n",
    "X['artists'] = X['artists'].apply(lambda x: ','.join(map(str, x)))\n",
    "\n",
    "# Split the data into training and test sets\n",
    "X_train, X_test, y_train, y_test = train_test_split(X, y, test_size=0.2)\n",
    "\n",
    "# Preprocess the training data\n",
    "num_cols = X.select_dtypes(include='number').columns.tolist()\n",
    "cat_cols = X.select_dtypes(include='object').columns.tolist()\n",
    "\n",
    "num_transformer = StandardScaler()\n",
    "cat_transformer = OneHotEncoder(handle_unknown='ignore')\n",
    "\n",
    "preprocessor = ColumnTransformer(transformers=[('num', num_transformer, num_cols),\n",
    "                                                ('cat', cat_transformer, cat_cols)])\n",
    "\n",
    "X_train = preprocessor.fit_transform(X_train)\n",
    "\n",
    "# Train a linear regression model\n",
    "model = LinearRegression()\n",
    "model.fit(X_train, y_train)\n",
    "\n",
    "# Preprocess the test data\n",
    "X_test['artists'] = X_test['artists'].apply(lambda x: ','.join(map(str, x)))\n",
    "X_test = preprocessor.transform(X_test)\n",
    "\n",
    "# Evaluate the model on the test set\n",
    "y_pred = model.predict(X_test)\n",
    "mae = mean_absolute_error(y_test, y_pred)\n",
    "print('MAE:', mae)"
   ]
  },
  {
   "cell_type": "code",
   "execution_count": 1,
   "metadata": {},
   "outputs": [
    {
     "ename": "NameError",
     "evalue": "name 'df' is not defined",
     "output_type": "error",
     "traceback": [
      "\u001b[0;31m---------------------------------------------------------------------------\u001b[0m",
      "\u001b[0;31mNameError\u001b[0m                                 Traceback (most recent call last)",
      "Cell \u001b[0;32mIn [1], line 1\u001b[0m\n\u001b[0;32m----> 1\u001b[0m df\n",
      "\u001b[0;31mNameError\u001b[0m: name 'df' is not defined"
     ]
    }
   ],
   "source": []
  },
  {
   "cell_type": "code",
   "execution_count": null,
   "metadata": {},
   "outputs": [],
   "source": []
  },
  {
   "cell_type": "code",
   "execution_count": null,
   "metadata": {},
   "outputs": [],
   "source": [
    "import mlflow\n",
    "import mlflow.sklearn\n",
    "\n",
    "# Assume you have already trained and evaluated a model\n",
    "with mlflow.start_run() as run:\n",
    "    # Log the model parameters and performance metrics\n",
    "    mlflow.log_param('model_type', 'linear_regression')\n",
    "    mlflow.log_param('num_features', X.shape[1])\n",
    "    mlflow.log_metric('MAE', mae)\n",
    "\n",
    "    # Log the trained model as an artifact\n",
    "    mlflow.sklearn.log_model(model, 'model')\n"
   ]
  }
 ],
 "metadata": {
  "kernelspec": {
   "display_name": "jng",
   "language": "python",
   "name": "python3"
  },
  "language_info": {
   "codemirror_mode": {
    "name": "ipython",
    "version": 3
   },
   "file_extension": ".py",
   "mimetype": "text/x-python",
   "name": "python",
   "nbconvert_exporter": "python",
   "pygments_lexer": "ipython3",
   "version": "3.10.8"
  },
  "orig_nbformat": 4,
  "vscode": {
   "interpreter": {
    "hash": "37227ed9c485f36684c918ad2ebf286762189d6ce6ae0d84fce244b97886ca3c"
   }
  }
 },
 "nbformat": 4,
 "nbformat_minor": 2
}
